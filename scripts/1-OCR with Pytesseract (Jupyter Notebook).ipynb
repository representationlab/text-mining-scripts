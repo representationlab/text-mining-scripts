{
 "cells": [
  {
   "cell_type": "markdown",
   "metadata": {},
   "source": [
    "# Install Packages"
   ]
  },
  {
   "cell_type": "code",
   "execution_count": 1,
   "metadata": {
    "scrolled": true
   },
   "outputs": [
    {
     "name": "stdout",
     "output_type": "stream",
     "text": [
      "Collecting pytesseract\n",
      "  Downloading pytesseract-0.3.10-py3-none-any.whl (14 kB)\n",
      "Collecting pillow\n",
      "  Obtaining dependency information for pillow from https://files.pythonhosted.org/packages/50/e5/0d484d1ac71b934638f91b7156203ba5bf3eb12f596b616a68a85c123808/Pillow-10.0.0-cp39-cp39-manylinux_2_28_x86_64.whl.metadata\n",
      "  Downloading Pillow-10.0.0-cp39-cp39-manylinux_2_28_x86_64.whl.metadata (9.5 kB)\n",
      "Requirement already satisfied: packaging>=21.3 in /home/dssadmin/anaconda3/envs/ocr/lib/python3.9/site-packages (from pytesseract) (23.0)\n",
      "Downloading Pillow-10.0.0-cp39-cp39-manylinux_2_28_x86_64.whl (3.4 MB)\n",
      "\u001b[2K   \u001b[38;2;114;156;31m━━━━━━━━━━━━━━━━━━━━━━━━━━━━━━━━━━━━━━━━\u001b[0m \u001b[32m3.4/3.4 MB\u001b[0m \u001b[31m11.1 MB/s\u001b[0m eta \u001b[36m0:00:00\u001b[0m MB/s\u001b[0m eta \u001b[36m0:00:01\u001b[0m:01\u001b[0m\n",
      "\u001b[?25hInstalling collected packages: pillow, pytesseract\n",
      "Successfully installed pillow-10.0.0 pytesseract-0.3.10\n"
     ]
    }
   ],
   "source": [
    "!pip install pytesseract pillow\n",
    "from PIL import Image\n",
    "import pytesseract\n",
    "import os\n",
    "import glob"
   ]
  },
  {
   "cell_type": "code",
   "execution_count": null,
   "metadata": {},
   "outputs": [],
   "source": [
    "## For Windows computer only\n",
    "#Set tesseract path (not needed on Ubuntu once pytesseract is installed in command line)\n",
    "pytesseract.pytesseract.tesseract_cmd = r'C:\\Users\\tuk51061\\AppData\\Local\\Programs\\Tesseract-OCR\\tesseract'"
   ]
  },
  {
   "cell_type": "markdown",
   "metadata": {},
   "source": [
    "# OCR for Multiple Books in Subfolders"
   ]
  },
  {
   "cell_type": "code",
   "execution_count": null,
   "metadata": {
    "scrolled": true
   },
   "outputs": [
    {
     "name": "stdout",
     "output_type": "stream",
     "text": [
      "Skipped: /media/dssadmin/External Drive/Mellon/Round 1/Batch 3/KBBMGZ202306000031/TIFFs to OCR/KBBMGZ202306000031Y0412-attablack.tif  - Unidentified image format\n",
      "OCR completed for KBBMGZ202306000031 and text saved to /media/dssadmin/External Drive/Mellon/OCR_Results/Batch 3/KBBMGZ202306000031.txt\n",
      "OCR completed for KBBMGZ202306000034 and text saved to /media/dssadmin/External Drive/Mellon/OCR_Results/Batch 3/KBBMGZ202306000034.txt\n",
      "OCR completed for KBBMGZ202306000047 and text saved to /media/dssadmin/External Drive/Mellon/OCR_Results/Batch 3/KBBMGZ202306000047.txt\n",
      "Skipped: /media/dssadmin/External Drive/Mellon/Round 1/Batch 3/KBBMGZ202306000048/TIFFs to OCR/KBBMGZ202306000048Y0229-cooknotes.tif  - Unidentified image format\n",
      "OCR completed for KBBMGZ202306000048 and text saved to /media/dssadmin/External Drive/Mellon/OCR_Results/Batch 3/KBBMGZ202306000048.txt\n",
      "Skipped: /media/dssadmin/External Drive/Mellon/Round 1/Batch 3/KBBMGZ202306000049/TIFFs to OCR/KBBMGZ202306000049Y0059-coulthurstofice.tif  - Unidentified image format\n",
      "OCR completed for KBBMGZ202306000049 and text saved to /media/dssadmin/External Drive/Mellon/OCR_Results/Batch 3/KBBMGZ202306000049.txt\n",
      "OCR completed for KBBMGZ202306000053 and text saved to /media/dssadmin/External Drive/Mellon/OCR_Results/Batch 3/KBBMGZ202306000053.txt\n",
      "OCR completed for KBBMGZ202306000055 and text saved to /media/dssadmin/External Drive/Mellon/OCR_Results/Batch 3/KBBMGZ202306000055.txt\n",
      "OCR completed for KBBMGZ202306000063 and text saved to /media/dssadmin/External Drive/Mellon/OCR_Results/Batch 3/KBBMGZ202306000063.txt\n",
      "Skipped: /media/dssadmin/External Drive/Mellon/Round 1/Batch 3/KBBMGZ202306000086/TIFFs to OCR/KBBMGZ202306000086Y0346-jubyanoth.tif  - Unidentified image format\n",
      "OCR completed for KBBMGZ202306000086 and text saved to /media/dssadmin/External Drive/Mellon/OCR_Results/Batch 3/KBBMGZ202306000086.txt\n",
      "Skipped: /media/dssadmin/External Drive/Mellon/Round 1/Batch 3/KBBMGZ202306000087/TIFFs to OCR/KBBMGZ202306000087Y0137-katcheralmos.tif  - Unidentified image format\n",
      "OCR completed for KBBMGZ202306000087 and text saved to /media/dssadmin/External Drive/Mellon/OCR_Results/Batch 3/KBBMGZ202306000087.txt\n",
      "Skipped: /media/dssadmin/External Drive/Mellon/Round 1/Batch 3/KBBMGZ202306000089/TIFFs to OCR/KBBMGZ202306000089Y0208-kendistamp.tif  - Unidentified image format\n",
      "Skipped: /media/dssadmin/External Drive/Mellon/Round 1/Batch 3/KBBMGZ202306000089/TIFFs to OCR/KBBMGZ202306000089Y0266-kendistamp.tif  - Unidentified image format\n",
      "OCR completed for KBBMGZ202306000089 and text saved to /media/dssadmin/External Drive/Mellon/OCR_Results/Batch 3/KBBMGZ202306000089.txt\n",
      "OCR completed for KBBMGZ202306000091 and text saved to /media/dssadmin/External Drive/Mellon/OCR_Results/Batch 3/KBBMGZ202306000091.txt\n",
      "Skipped: /media/dssadmin/External Drive/Mellon/Round 1/Batch 3/KBBMGZ202306000092/TIFFs to OCR/KBBMGZ202306000092Y0204-khorramisnot.tif  - Unidentified image format\n",
      "OCR completed for KBBMGZ202306000092 and text saved to /media/dssadmin/External Drive/Mellon/OCR_Results/Batch 3/KBBMGZ202306000092.txt\n",
      "Skipped: /media/dssadmin/External Drive/Mellon/Round 1/Batch 3/KBBMGZ202306000093/TIFFs to OCR/KBBMGZ202306000093Y0224-kingaskth.tif  - Unidentified image format\n",
      "OCR completed for KBBMGZ202306000093 and text saved to /media/dssadmin/External Drive/Mellon/OCR_Results/Batch 3/KBBMGZ202306000093.txt\n"
     ]
    },
    {
     "name": "stderr",
     "output_type": "stream",
     "text": [
      "/home/dssadmin/anaconda3/envs/ocr/lib/python3.9/site-packages/PIL/TiffImagePlugin.py:866: UserWarning: Corrupt EXIF data.  Expecting to read 2 bytes but only got 0. \n",
      "  warnings.warn(str(msg))\n"
     ]
    },
    {
     "name": "stdout",
     "output_type": "stream",
     "text": [
      "Skipped: /media/dssadmin/External Drive/Mellon/Round 1/Batch 3/KBBMGZ202306000094/TIFFs to OCR/KBBMGZ202306000094Y0104-konigsbergmusic.tif  - Unidentified image format\n",
      "Skipped: /media/dssadmin/External Drive/Mellon/Round 1/Batch 3/KBBMGZ202306000094/TIFFs to OCR/KBBMGZ202306000094Y0182-konigsbergmusic.tif  - Unidentified image format\n"
     ]
    }
   ],
   "source": [
    "def ocr_all_files(folder_path):\n",
    "    text = \"\"\n",
    "    tiffs_path = os.path.join(folder_path, \"TIFFs to OCR\")\n",
    "    \n",
    "    if os.path.exists(tiffs_path):\n",
    "        tiff_files = [file for file in sorted(os.listdir(tiffs_path)) if file.lower().endswith('.tif')]\n",
    "        for file in tiff_files:\n",
    "            file_path = os.path.join(tiffs_path, file)\n",
    "            \n",
    "            try:\n",
    "                image = Image.open(file_path)\n",
    "                img_text = pytesseract.image_to_string(image, lang='eng')     \n",
    "                text += img_text + '\\n'\n",
    "            except Exception as e:\n",
    "                print(\"Skipped:\", file_path, \" - Unidentified image format\")\n",
    "    return text\n",
    "    \n",
    "main_directory = '\\PATHNAME'\n",
    "output_directory = '\\PATHNAME'\n",
    "\n",
    "for book_subdir in os.listdir(main_directory):\n",
    "    book_subdir_path = os.path.join(main_directory, book_subdir)\n",
    "    if os.path.isdir(book_subdir_path):\n",
    "        output_text_file = os.path.join(output_directory, book_subdir + '.txt')\n",
    "        extracted_text = ocr_all_files(book_subdir_path)\n",
    "        \n",
    "        with open(output_text_file, 'w', encoding='utf-8') as f:\n",
    "            f.write(extracted_text)\n",
    "            print(\"OCR completed for\", book_subdir, \"and text saved to\", output_text_file)\n"
   ]
  }
 ],
 "metadata": {
  "kernelspec": {
   "display_name": "Python 3 (ipykernel)",
   "language": "python",
   "name": "python3"
  },
  "language_info": {
   "codemirror_mode": {
    "name": "ipython",
    "version": 3
   },
   "file_extension": ".py",
   "mimetype": "text/x-python",
   "name": "python",
   "nbconvert_exporter": "python",
   "pygments_lexer": "ipython3",
   "version": "3.8.5"
  }
 },
 "nbformat": 4,
 "nbformat_minor": 5
}
